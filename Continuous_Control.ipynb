{
 "cells": [
  {
   "cell_type": "markdown",
   "metadata": {},
   "source": [
    "# Continuous Control\n",
    "\n",
    "---\n",
    "\n",
    "In this notebook, we solve a Unity ML-Agents environment for the second project of the [Deep Reinforcement Learning Nanodegree](https://www.udacity.com/course/deep-reinforcement-learning-nanodegree--nd893) program.\n",
    "\n",
    "For **TRAINING** the agents, please execute the cells in **Sections 1, 2 and 3.**\n",
    "\n",
    "For **RUNNING** the agents, please execute the cells in **Sections 1, 2 and ___4___.**\n",
    "\n",
    "### 1. Start the Environment\n",
    "\n",
    "We start by defining some hyperparameters:"
   ]
  },
  {
   "cell_type": "code",
   "execution_count": 1,
   "metadata": {
    "scrolled": true
   },
   "outputs": [
    {
     "name": "stderr",
     "output_type": "stream",
     "text": [
      "INFO:unityagents:\n",
      "'Academy' started successfully!\n",
      "Unity Academy name: Academy\n",
      "        Number of Brains: 1\n",
      "        Number of External Brains : 1\n",
      "        Lesson number : 0\n",
      "        Reset Parameters :\n",
      "\t\t\n",
      "Unity brain name: TennisBrain\n",
      "        Number of Visual Observations (per agent): 0\n",
      "        Vector Observation space type: continuous\n",
      "        Vector Observation space size (per agent): 8\n",
      "        Number of stacked Vector Observation: 3\n",
      "        Vector Action space type: continuous\n",
      "        Vector Action space size (per agent): 2\n",
      "        Vector Action descriptions: , \n"
     ]
    }
   ],
   "source": [
    "from unityagents import UnityEnvironment\n",
    "env = UnityEnvironment(file_name=\"Tennis_Linux/Tennis.x86_64\")"
   ]
  },
  {
   "cell_type": "markdown",
   "metadata": {},
   "source": [
    "Now we configure the Jupyter environment and import the necessary packages. If the code cell below returns an error, please revisit the installation instructions in the project [README.md](https://github.com/hullmann/continuouscontrol-DDPG/blob/master/README.md)."
   ]
  },
  {
   "cell_type": "code",
   "execution_count": 2,
   "metadata": {},
   "outputs": [],
   "source": [
    "%load_ext autoreload\n",
    "%autoreload 2\n",
    "%matplotlib inline\n",
    "\n",
    "\n",
    "import numpy as np\n",
    "\n",
    "from IPython.display import clear_output\n",
    "\n",
    "import torch\n",
    "\n",
    "import time\n",
    "from ddpg_agentx import OUNoise\n",
    "from collections import namedtuple, deque\n",
    "import matplotlib.pyplot as plt\n",
    "from ddpg_agentx import Agent\n",
    "from ddpg_agentx import ReplayBuffer\n",
    "from ddpg_agentx import MultiagentWrapper"
   ]
  },
  {
   "cell_type": "markdown",
   "metadata": {},
   "source": [
    "Next, we start the Unity environment!  **_Before running the code cell below_**, please change the `file_name` parameter to match the location of the Unity environment that you downloaded.\n",
    "\n",
    "- **Mac**: `\"Reacher.app\"`\n",
    "- **Windows** (x86): `\"Reacher_Windows_x86/Reacher.exe\"`\n",
    "- **Windows** (x86_64): `\"Reacher_Windows_x86_64/Reacher.exe\"`\n",
    "- **Linux** (x86_64): `\"Reacher_Linux/Reacher.x86_64\"`\n",
    "\n",
    "For instance, if you are using a Mac, then you downloaded `Reacher.app`.  If this file is in the same folder as the notebook, then the line below should appear as follows:\n",
    "```\n",
    "env = UnityEnvironment(file_name=\"Reacher.app\")\n",
    "```"
   ]
  },
  {
   "cell_type": "markdown",
   "metadata": {},
   "source": [
    "Environments contain **_brains_** which are responsible for deciding the actions of their associated agents. Here we check for the first brain available, and set it as the default brain we will be controlling from Python."
   ]
  },
  {
   "cell_type": "code",
   "execution_count": 3,
   "metadata": {},
   "outputs": [],
   "source": [
    "brain_name = env.brain_names[0]\n",
    "brain = env.brains[brain_name]"
   ]
  },
  {
   "cell_type": "markdown",
   "metadata": {},
   "source": [
    "### 2. Examine the State and Action Spaces\n",
    "\n",
    "In this environment, a double-jointed arm can move to target locations. A reward of `+0.1` is provided for each step that the agent's hand is in the goal location. Thus, the goal of the agent is to maintain its position at the target location for as many time steps as possible.\n",
    "\n",
    "The observation space consists of `33` variables corresponding to position, rotation, velocity, and angular velocities of the arm.  Each action is a vector with four numbers, corresponding to torque applicable to two joints.  Every entry in the action vector must be a number between `-1` and `1`.\n",
    "\n",
    "The cell below will output some information about the environment and set relevant variables like `action_size` and `state_size`."
   ]
  },
  {
   "cell_type": "code",
   "execution_count": 4,
   "metadata": {},
   "outputs": [
    {
     "name": "stdout",
     "output_type": "stream",
     "text": [
      "Number of agents: 2\n",
      "Size of each action: 2\n",
      "There are 2 agents. Each observes a state with length: 24\n",
      "The state for the first agent looks like: [ 0.          0.          0.          0.          0.          0.\n",
      "  0.          0.          0.          0.          0.          0.\n",
      "  0.          0.          0.          0.         -6.65278625 -1.5\n",
      " -0.          0.          6.83172083  6.         -0.          0.        ]\n"
     ]
    }
   ],
   "source": [
    "# reset the environment\n",
    "env_info = env.reset(train_mode=False)[brain_name]\n",
    "\n",
    "# number of agents\n",
    "num_agents = len(env_info.agents)\n",
    "print('Number of agents:', num_agents)\n",
    "\n",
    "# size of each action\n",
    "action_size = brain.vector_action_space_size\n",
    "print('Size of each action:', action_size)\n",
    "\n",
    "# examine the state space \n",
    "states = env_info.vector_observations\n",
    "state_size = states.shape[1]\n",
    "print('There are {} agents. Each observes a state with length: {}'.format(states.shape[0], state_size))\n",
    "print('The state for the first agent looks like:', states[0])"
   ]
  },
  {
   "cell_type": "markdown",
   "metadata": {},
   "source": [
    "### 3.  Training the agents\n",
    "\n",
    "In the next code cell, we train the twenty agents.\n",
    "\n",
    "Please note that they share a common `replaybuffer` that we initialize at the beginning of the cell. This will help them to learn faster. We could also think about sharing the network weights like in A2C and A3C algorithms, but in fact the performance was satisfactory without any weight sharing.\n",
    "\n",
    "The environment is solved if we receive an average reward of more than +30 in 100 episodes. This is already achieved after the first 100 episodes as the average reward quickly rises to almost +40, see the reward plot for the twenty agents in the cell output.\n",
    "\n",
    "After each episode, the model weights are being saved, so that you can stop training anytime and then run the agents based on the last model weights. The model weights contained in the repository have been trained in 100 episodes."
   ]
  },
  {
   "cell_type": "code",
   "execution_count": 5,
   "metadata": {},
   "outputs": [],
   "source": [
    "BUFFER_SIZE = int(1e6)  # replay buffer size\n",
    "BATCH_SIZE = 512        # minibatch size\n",
    "UPDATE_INTERVAL = 4    # The number of time steps after which the agents are retrained\n",
    "UPDATE_STEPS = 1       # The number of minibatches that are used for a retraining of the agents\n",
    "NOISE_LEVEL=0.7\n",
    "NOISE_DECAY=0.9999\n",
    "RANDOM_SEED=3\n",
    "NUM_AGENTS=2\n",
    "SOLUTION_THRESHOLD=0.5"
   ]
  },
  {
   "cell_type": "code",
   "execution_count": 6,
   "metadata": {
    "scrolled": false
   },
   "outputs": [
    {
     "name": "stdout",
     "output_type": "stream",
     "text": [
      "Episode 100\tAverage Score: 0.01\tScore: 0.00\tNoise Level: 0.69\n",
      "Episode 200\tAverage Score: 0.01\tScore: 0.00\tNoise Level: 0.69\n",
      "Episode 300\tAverage Score: 0.01\tScore: 0.00\tNoise Level: 0.68\n",
      "Episode 400\tAverage Score: 0.00\tScore: 0.00\tNoise Level: 0.67\n",
      "Episode 500\tAverage Score: 0.00\tScore: 0.00\tNoise Level: 0.67\n",
      "Episode 600\tAverage Score: 0.00\tScore: 0.00\tNoise Level: 0.66\n",
      "Episode 700\tAverage Score: 0.01\tScore: 0.00\tNoise Level: 0.65\n",
      "Episode 800\tAverage Score: 0.03\tScore: 0.00\tNoise Level: 0.65\n",
      "Episode 900\tAverage Score: 0.02\tScore: 0.00\tNoise Level: 0.64\n",
      "Episode 1000\tAverage Score: 0.03\tScore: 0.00\tNoise Level: 0.63\n",
      "Episode 1100\tAverage Score: 0.04\tScore: 0.00\tNoise Level: 0.63\n",
      "Episode 1200\tAverage Score: 0.08\tScore: 0.00\tNoise Level: 0.62\n",
      "Episode 1300\tAverage Score: 0.05\tScore: 0.00\tNoise Level: 0.61\n",
      "Episode 1400\tAverage Score: 0.05\tScore: 0.10\tNoise Level: 0.61\n",
      "Episode 1500\tAverage Score: 0.08\tScore: 0.10\tNoise Level: 0.60\n",
      "Episode 1600\tAverage Score: 0.10\tScore: 0.09\tNoise Level: 0.60\n",
      "Episode 1700\tAverage Score: 0.11\tScore: 0.10\tNoise Level: 0.59\n",
      "Episode 1800\tAverage Score: 0.12\tScore: 0.10\tNoise Level: 0.58\n",
      "Episode 1900\tAverage Score: 0.11\tScore: 0.20\tNoise Level: 0.58\n",
      "Episode 2000\tAverage Score: 0.15\tScore: 0.20\tNoise Level: 0.57\n",
      "Episode 2100\tAverage Score: 0.13\tScore: 0.10\tNoise Level: 0.57\n",
      "Episode 2200\tAverage Score: 0.14\tScore: 0.20\tNoise Level: 0.56\n",
      "Episode 2300\tAverage Score: 0.19\tScore: 0.90\tNoise Level: 0.56\n",
      "Episode 2400\tAverage Score: 0.26\tScore: 0.10\tNoise Level: 0.55\n",
      "Episode 2500\tAverage Score: 0.26\tScore: 0.20\tNoise Level: 0.55\n",
      "Episode 2600\tAverage Score: 0.31\tScore: 0.10\tNoise Level: 0.54\n",
      "Episode 2700\tAverage Score: 0.40\tScore: 0.80\tNoise Level: 0.53\n",
      "Episode 2755\tAverage Score: 0.52\tScore: 2.60\tNoise Level: 0.53\n",
      "Environment solved! Saving agent weights\n"
     ]
    },
    {
     "data": {
      "image/png": "[encoded data removed]",
      "text/plain": [
       "<Figure size 720x720 with 1 Axes>"
      ]
     },
     "metadata": {
      "needs_background": "light"
     },
     "output_type": "display_data"
    }
   ],
   "source": [
    "replaybuffer = ReplayBuffer(action_size, BUFFER_SIZE, BATCH_SIZE, RANDOM_SEED)\n",
    "\n",
    "agents = MultiagentWrapper(RANDOM_SEED, BATCH_SIZE, replaybuffer)\n",
    "\n",
    "def ddpg(n_episodes=2000, noise_level=NOISE_LEVEL, noise_decay=NOISE_DECAY):\n",
    "    total_t = 0\n",
    "    scores_deque = deque(maxlen=100)\n",
    "    scores = []\n",
    "    max_score = -np.Inf\n",
    "    for i_episode in range(1, n_episodes+1):\n",
    "        env_info = env.reset(train_mode=False)[brain_name]\n",
    "        states = env_info.vector_observations\n",
    "        for agent in agents.agents:\n",
    "            agent.reset()\n",
    "        \n",
    "        scores_agents = np.zeros(NUM_AGENTS)\n",
    "        for t in range(0, 1000):\n",
    "            total_t += 1\n",
    "            actions = agents.act(states, noise_level)\n",
    "            env_info = env.step(actions)[brain_name]\n",
    "            next_states = env_info.vector_observations\n",
    "            rewards = env_info.rewards                         # get reward (for each agent)\n",
    "            dones = env_info.local_done                        # see if episode finished\n",
    "\n",
    "            scores_agents += np.array(env_info.rewards)\n",
    "            replaybuffer.add(states, actions, rewards, next_states, dones)\n",
    "            \n",
    "            if total_t%UPDATE_INTERVAL==0:\n",
    "                for _ in range(0, UPDATE_STEPS):\n",
    "                    agents.learn()\n",
    "\n",
    "            states = next_states                               # roll over states to next time step\n",
    "            if np.any(dones):                                  # exit loop if episode finished\n",
    "                break\n",
    "\n",
    "        scores_deque.append(np.max(scores_agents)) # as discussed maximum of both agents\n",
    "        scores.append(np.concatenate((scores_agents, (np.mean(scores_deque),))))\n",
    "        if i_episode % 100 == 0:\n",
    "            print('\\rEpisode {}\\tAverage Score: {:.2f}\\tScore: {:.2f}\\tNoise Level: {:.2f}'.format(i_episode, np.mean(scores_deque), scores_deque[-1], noise_level))\n",
    "        else:\n",
    "            print('\\rEpisode {}\\tAverage Score: {:.2f}\\tScore: {:.2f}\\tNoise Level: {:.2f}'.format(i_episode, np.mean(scores_deque), scores_deque[-1], noise_level), end=\"\")\n",
    "            \n",
    "        noise_level *= noise_decay\n",
    "\n",
    "        if np.mean(scores_deque) >= SOLUTION_THRESHOLD:\n",
    "            print()\n",
    "            print('Environment solved! Saving agent weights')\n",
    "            for agentNr in range(0, NUM_AGENTS):\n",
    "                torch.save(agents.agents[agentNr].actor_local.state_dict(), 'model_weights/checkpoint_actor_{0}.pth'.format(agentNr))\n",
    "                torch.save(agents.agents[agentNr].critic_local.state_dict(), 'model_weights/checkpoint_critic_{0}.pth'.format(agentNr))\n",
    "            break\n",
    "\n",
    "    return scores\n",
    "\n",
    "scores = ddpg(n_episodes=10000)\n",
    "\n",
    "fig, ax = plt.subplots(1,1,figsize=(10,10))\n",
    "for agentNr in range(0, NUM_AGENTS):\n",
    "    plt.plot(np.arange(1, len(scores)+1), [score[agentNr] for score in scores], label='Agent {}'.format(agentNr+1), linewidth=1)\n",
    "plt.plot(np.arange(1, len(scores)+1), [score[NUM_AGENTS] for score in scores], label='Average over max of agents', linewidth=4)\n",
    "plt.ylabel('Score')\n",
    "plt.xlabel('Episode #')\n",
    "ax.legend()\n",
    "plt.show()"
   ]
  },
  {
   "cell_type": "markdown",
   "metadata": {},
   "source": [
    "### 4. Running the agents\n",
    "\n",
    "Now we can finally run the agents. If you experience problems with the Unity environment, reset the IPython kernel and execute the cells from the beginning -- without the training step, of course. The following cell reads in the model weights that have been written to the disk lastly.\n",
    "\n",
    "You can observe the agents in the Unity window. Please note that it is now in full size as opposed to the training step, because we set `train_mode=False` in the call to `env.reset`. Also, when calling the `act` functions of the agents, we set `add_noise=False`, because this is only helpful when training the agents (think of the similarity to Dropout layers that are only active during training)."
   ]
  },
  {
   "cell_type": "code",
   "execution_count": null,
   "metadata": {},
   "outputs": [],
   "source": [
    "replaybuffer = ReplayBuffer(action_size, BUFFER_SIZE, BATCH_SIZE, 13)\n",
    "\n",
    "agents = [ Agent(state_size=state_size, action_size=action_size, random_seed=(13+seed), memory=replaybuffer) for seed in range(0, num_agents) ]\n",
    "\n",
    "for agentNr in range(0, num_agents):\n",
    "    agents[agentNr].actor_local.load_state_dict(torch.load('model_weights/checkpoint_actor_{0}.pth'.format(agentNr)))\n",
    "    agents[agentNr].critic_local.load_state_dict(torch.load('model_weights/checkpoint_critic_{0}.pth'.format(agentNr)))\n",
    "\n",
    "def run_ddpg():\n",
    "    env_info = env.reset(train_mode=False)[brain_name]\n",
    "    states = env_info.vector_observations\n",
    "    for agent in agents:\n",
    "        agent.reset()\n",
    "    scores_agents = np.zeros(num_agents)\n",
    "    for episode in range(0, 10):\n",
    "        for t in range(0, 2000):\n",
    "            actions = np.array([ agents[agentNr].act(states[agentNr, :][None, :], add_noise=True).flatten() for agentNr in range(0, num_agents)])\n",
    "            env_info = env.step(actions)[brain_name]\n",
    "            next_states = env_info.vector_observations\n",
    "            rewards = env_info.rewards                         # get reward (for each agent)\n",
    "            dones = env_info.local_done                        # see if episode finished\n",
    "            scores_agents += np.array(env_info.rewards)\n",
    "            states = next_states                               # roll over states to next time step\n",
    "            if np.any(dones):                                  # exit loop if episode finished\n",
    "                break\n",
    "            time.sleep(0.1)\n",
    "\n",
    "    print(\"The agents got the following scores: \", scores_agents)\n",
    "    print(\"(mean = {0})\".format(np.mean(scores_agents)))\n",
    "    \n",
    "run_ddpg()"
   ]
  },
  {
   "cell_type": "code",
   "execution_count": null,
   "metadata": {},
   "outputs": [],
   "source": [
    "env.close() # Closes the environment"
   ]
  },
  {
   "cell_type": "code",
   "execution_count": null,
   "metadata": {},
   "outputs": [],
   "source": [
    "for i in [0, 0]:\n",
    "    print(i)"
   ]
  },
  {
   "cell_type": "code",
   "execution_count": null,
   "metadata": {},
   "outputs": [],
   "source": [
    "torch.ones(3)[None, :\n",
    "             ]"
   ]
  }
 ],
 "metadata": {
  "kernelspec": {
   "display_name": "drlnd",
   "language": "python",
   "name": "drlnd"
  },
  "language_info": {
   "codemirror_mode": {
    "name": "ipython",
    "version": 3
   },
   "file_extension": ".py",
   "mimetype": "text/x-python",
   "name": "python",
   "nbconvert_exporter": "python",
   "pygments_lexer": "ipython3",
   "version": "3.6.9"
  }
 },
 "nbformat": 4,
 "nbformat_minor": 2
}
